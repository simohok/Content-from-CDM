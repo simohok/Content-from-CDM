{
  "nbformat": 4,
  "nbformat_minor": 0,
  "metadata": {
    "colab": {
      "name": "Content_from_CDM.ipynb",
      "provenance": [],
      "collapsed_sections": []
    },
    "kernelspec": {
      "name": "python3",
      "display_name": "Python 3"
    }
  },
  "cells": [
    {
      "cell_type": "markdown",
      "metadata": {
        "id": "7wh_F-9_Lfpw"
      },
      "source": [
        "Tämä tiedosto lukee Microsoft CDM zip:n (https://github.com/microsoft/CDM) eri tarpeisiin (zip-tiedosto on ladattu GitHubista 17.12.2020). Jos ja kun on tarve jatkoanalysoida json-tiedostoja esimerkiksi Power BI Desktop -työkalulla, niin sekä potentiaalisia entiteettejä (cdm.json-loppuiset tiedostot, joihin ei sisälly manifest.cdm.json-tiedostot) ja niiden suhteista (manifest.cdm.json-loppuiset tiedostot) kuvaavat tiedostot puretaan lopuksi kahteen hakemistoon - toiseen potentiaaliset entiteetit ja toiseen suhteet. \n"
      ]
    },
    {
      "cell_type": "code",
      "metadata": {
        "id": "mb3HynSMsTvX",
        "colab": {
          "base_uri": "https://localhost:8080/"
        },
        "outputId": "80eec029-1b4f-4ed6-b65f-21afc9f41429"
      },
      "source": [
        "# Voit luoda hakemistoja myös Google Colabroratoryyn ja ne säilyvät ympäristön käyttöajan\n",
        "import os  \n",
        "\n",
        "def make_directory(path):\n",
        "  try:  \n",
        "    os.mkdir(path)\n",
        "  except OSError as error:  \n",
        "    print(error)   \n",
        "    \n",
        "path = \"/content\"\n",
        "# Luo ainakin hakemisto (UnzippedCDM_entities), johon kokoat valitut entiteetti-tiedostot \n",
        "# (cdm.json-loppuiset, joihin ei kuulu versionumerolliset ja manifest.cdm.json-loppuiset)\n",
        "folder = input(\"Anna hakemiston nimi, kuten UnzippedCDM, johon haluat haluamasi json-loppuiset tiedostot: \\n\")\n",
        "make_directory(os.path.join(path,folder))\n",
        "# Listaa hakemistot   \n",
        "!ls \"/content\" "
      ],
      "execution_count": 1,
      "outputs": [
        {
          "output_type": "stream",
          "text": [
            "Anna hakemiston nimi, kuten UnzippedCDM, johon haluat haluamasi json-loppuiset tiedostot: \n",
            "ExampleCDM\n",
            "ExampleCDM  sample_data\n"
          ],
          "name": "stdout"
        }
      ]
    },
    {
      "cell_type": "code",
      "metadata": {
        "colab": {
          "base_uri": "https://localhost:8080/"
        },
        "id": "ZeEwIUC8vKPu",
        "outputId": "faf2226f-2e6d-4374-b399-2997100c0d1c"
      },
      "source": [
        "!wget https://github.com/microsoft/CDM/archive/master.zip -O temp.zip"
      ],
      "execution_count": 2,
      "outputs": [
        {
          "output_type": "stream",
          "text": [
            "--2020-12-17 16:20:11--  https://github.com/microsoft/CDM/archive/master.zip\n",
            "Resolving github.com (github.com)... 13.114.40.48\n",
            "Connecting to github.com (github.com)|13.114.40.48|:443... connected.\n",
            "HTTP request sent, awaiting response... 302 Found\n",
            "Location: https://codeload.github.com/microsoft/CDM/zip/master [following]\n",
            "--2020-12-17 16:20:11--  https://codeload.github.com/microsoft/CDM/zip/master\n",
            "Resolving codeload.github.com (codeload.github.com)... 13.112.159.149\n",
            "Connecting to codeload.github.com (codeload.github.com)|13.112.159.149|:443... connected.\n",
            "HTTP request sent, awaiting response... 200 OK\n",
            "Length: unspecified [application/zip]\n",
            "Saving to: ‘temp.zip’\n",
            "\n",
            "temp.zip                [<=>                 ]  78.42M  8.88MB/s    in 14s     \n",
            "\n",
            "2020-12-17 16:20:26 (5.67 MB/s) - ‘temp.zip’ saved [82228519]\n",
            "\n"
          ],
          "name": "stdout"
        }
      ]
    },
    {
      "cell_type": "code",
      "metadata": {
        "colab": {
          "base_uri": "https://localhost:8080/"
        },
        "id": "vPA_7g7jswd4",
        "outputId": "86fafdc2-e43c-4f24-c678-675cef6879f8"
      },
      "source": [
        "# Lasketaan kaikkien tiedostojen lkm\r\n",
        "from zipfile import ZipFile\r\n",
        "import re\r\n",
        "\r\n",
        "with ZipFile('/content/temp.zip', 'r') as zipObj:\r\n",
        "   FileNames = zipObj.namelist()\r\n",
        "   file_counter = 0\r\n",
        "   for fileName in FileNames:\r\n",
        "       file_counter = file_counter+1\r\n",
        "print(file_counter)"
      ],
      "execution_count": 3,
      "outputs": [
        {
          "output_type": "stream",
          "text": [
            "53930\n"
          ],
          "name": "stdout"
        }
      ]
    },
    {
      "cell_type": "code",
      "metadata": {
        "id": "47-sH3wBwG0q",
        "colab": {
          "base_uri": "https://localhost:8080/"
        },
        "outputId": "960793ce-0985-4ee7-c536-1f02de14c96f"
      },
      "source": [
        "# Lasketaan kaikkien tiedostojen lkm, jotka loppuvat cdm.json ja joissa ei ole versionumeroa, \n",
        "# ja jotka ovat schemaDocuments-hakemistossa, koska sivulla https://github.com/microsoft/CDM oleva \n",
        "# Entity Reference Index -linkki johtaa sivustolle https://github.com/microsoft/CDM/tree/master/schemaDocuments#directory-of-cdm-entities\n",
        "# Jos tiedoston polkunimessä on Tables, niin silloin kyseessä on fyysiset entiteetit https://github.com/microsoft/CDM/blob/master/schemaDocuments/core/operationsCommon/Tables/README.md\n",
        "# Jos tiedoston polkunimessä on Entities, niin silloin kyseessä on loogiset entiteetit https://github.com/microsoft/CDM/tree/master/schemaDocuments/core/operationsCommon/Entities\n",
        "# Jos tiedoston polkunimessä on applicationCommon, niin silloin kyseessä on CDM:n vakio (standard) entiteetit https://github.com/microsoft/CDM/blob/master/schemaDocuments/core/applicationCommon/README.md\n",
        "from zipfile import ZipFile\n",
        "import re\n",
        "with ZipFile('/content/temp.zip', 'r') as zipObj:\n",
        "   FileNames = zipObj.namelist()\n",
        "   # Käy tiedostonimet läpi\n",
        "   file_counter = 0\n",
        "   file_counter_manifest = 0\n",
        "   file_counter_schema = 0\n",
        "   file_counter_schema_manifest = 0\n",
        "   file_counter_tables = 0\n",
        "   file_counter_schema_tables = 0\n",
        "   file_counter_entities = 0\n",
        "   file_counter_schema_entities = 0\n",
        "   file_counter_standard = 0\n",
        "   file_counter_schema_standard = 0\n",
        "   for fileName in FileNames:\n",
        "       endswith = \".cdm.json\"\n",
        "       if fileName.endswith(endswith):\n",
        "          pattern_1 = \".1.\"\n",
        "          matchObj_1 =  re.search(pattern_1, fileName)\n",
        "          pattern_2 = \".0.\"\n",
        "          matchObj_2 =  re.search(pattern_2, fileName)\n",
        "          pattern_3 = \".manifest.cdm.json\"\n",
        "          matchObj_3 =  re.search(pattern_3, fileName)\n",
        "          pattern_4 = \"schemaDocuments\"\n",
        "          matchObj_4 =  re.search(pattern_4, fileName)\n",
        "          pattern_5 = \"Tables\"\n",
        "          matchObj_5 =  re.search(pattern_5, fileName)\n",
        "          pattern_6 = \"Entities\"\n",
        "          matchObj_6 =  re.search(pattern_6, fileName)\n",
        "          pattern_7 = \"applicationCommon\"\n",
        "          matchObj_7 =  re.search(pattern_7, fileName)\n",
        "          if not matchObj_1 and not matchObj_2:\n",
        "             file_counter = file_counter+1\n",
        "             if matchObj_3:\n",
        "               file_counter_manifest = file_counter_manifest + 1\n",
        "             if matchObj_4:\n",
        "               file_counter_schema = file_counter_schema + 1 \n",
        "             if matchObj_3 and matchObj_4:\n",
        "               file_counter_schema_manifest = file_counter_schema_manifest + 1\n",
        "             if matchObj_5:\n",
        "               file_counter_tables = file_counter_tables + 1\n",
        "             if matchObj_5 and matchObj_4 and matchObj_3:\n",
        "               file_counter_schema_tables = file_counter_schema_tables + 1\n",
        "             if matchObj_6:\n",
        "               file_counter_entities = file_counter_entities + 1\n",
        "             if matchObj_6 and matchObj_4 and matchObj_3:\n",
        "               file_counter_schema_entities = file_counter_schema_entities + 1\n",
        "             if matchObj_7:\n",
        "               file_counter_standard = file_counter_standard + 1\n",
        "             if matchObj_7 and matchObj_4 and matchObj_3:\n",
        "               file_counter_schema_standard = file_counter_schema_standard + 1\n",
        "\n",
        "print(\"Kaikki cdm.json-loppuiset tiedostot yhteensä:\", file_counter)\n",
        "print(\"Kaikki manifest.cdm.json-loppuiset tiedostot yhteensä:\", file_counter_manifest)\n",
        "print(\"Kaikki cdm.json-tiedostot, jotka eivät ole manifest.cdm.json-loppuisia:\", file_counter - file_counter_manifest)\n",
        "print(\"Kaikki cdm.json-loppuiset tiedostot schemaDocuments-hakemistossa yhteensä:\", file_counter_schema)\n",
        "print(\"Kaikki manifest.cdm.json-loppuiset tiedostot schemaDocuments-hakemistossa yhteensä:\", file_counter_schema_manifest)\n",
        "print(\"Kaikki cdm.json-tiedostot, jotka eivät ole manifest.cdm.json-loppuisia, schemaDocuments-hakemistossa:\", file_counter_schema - file_counter_schema_manifest)\n",
        "print(\"Kaikki cdm.json-tiedostot, joiden nimessä on Tables:\", file_counter_tables)\n",
        "print(\"Kaikki cdm.json-tiedostot, joiden nimessä on Tables ja manifest.cdm.json, schemaDocuments-hakemistossa:\", file_counter_schema_tables)\n",
        "print(\"Kaikki cdm.json-tiedostot, joiden nimessä on Entities:\", file_counter_entities)\n",
        "print(\"Kaikki cdm.json-tiedostot, joiden nimessä on Entities ja manifest.cdm.json, schemaDocuments-hakemistossa:\", file_counter_schema_entities)\n",
        "print(\"Kaikki cdm.json-tiedostot, joiden nimessä on applicationCommon:\", file_counter_standard)\n",
        "print(\"Kaikki cdm.json-tiedostot, joiden nimessä on applicationCommon ja manifest.cdm.json, schemaDocuments-hakemistossa:\", file_counter_schema_standard)"
      ],
      "execution_count": null,
      "outputs": [
        {
          "output_type": "stream",
          "text": [
            "Kaikki cdm.json-loppuiset tiedostot yhteensä: 18523\n",
            "Kaikki manifest.cdm.json-loppuiset tiedostot yhteensä: 1580\n",
            "Kaikki cdm.json-tiedostot, jotka eivät ole manifest.cdm.json-loppuisia: 16943\n",
            "Kaikki cdm.json-loppuiset tiedostot schemaDocuments-hakemistossa yhteensä: 10536\n",
            "Kaikki manifest.cdm.json-loppuiset tiedostot schemaDocuments-hakemistossa yhteensä: 579\n",
            "Kaikki cdm.json-tiedostot, jotka eivät ole manifest.cdm.json-loppuisia, schemaDocuments-hakemistossa: 9957\n",
            "Kaikki cdm.json-tiedostot, joiden nimessä on Tables: 6468\n",
            "Kaikki cdm.json-tiedostot, joiden nimessä on Tables ja manifest.cdm.json, schemaDocuments-hakemistossa: 467\n",
            "Kaikki cdm.json-tiedostot, joiden nimessä on Entities: 2975\n",
            "Kaikki cdm.json-tiedostot, joiden nimessä on Entities ja manifest.cdm.json, schemaDocuments-hakemistossa: 60\n",
            "Kaikki cdm.json-tiedostot, joiden nimessä on applicationCommon: 1395\n",
            "Kaikki cdm.json-tiedostot, joiden nimessä on applicationCommon ja manifest.cdm.json, schemaDocuments-hakemistossa: 39\n"
          ],
          "name": "stdout"
        }
      ]
    },
    {
      "cell_type": "code",
      "metadata": {
        "id": "3uldzOY3IxP8"
      },
      "source": [
        "# Puretaan yhteen hakemistoon cdm.json-tiedostot halutusta schemaDocuments-hakemistosta\n",
        "import re\n",
        "from zipfile import ZipFile\n",
        "listOfFileNames = {}\n",
        "infiles = []\n",
        "# Hakemisto, johon puretaan halutut tiedostot\n",
        "folder = \"/content/ExampleCDM\"\n",
        "with ZipFile('/content/temp.zip', 'r') as zipObj:\n",
        "   listOfFileNames = zipObj.namelist()\n",
        "   # Käy tiedostonimet läpi\n",
        "   for fileName in listOfFileNames:\n",
        "       # Tarkistaa ja purkaa tiedostot, jotka päättyvät halutulla tavalla\n",
        "       endswith = \".cdm.json\"\n",
        "       if fileName.endswith(endswith):\n",
        "          if fileName.endswith(endswith):\n",
        "            pattern_1 = \".1.\"\n",
        "            matchObj_1 =  re.search(pattern_1, fileName)\n",
        "            pattern_2 = \".0.\"\n",
        "            matchObj_2 =  re.search(pattern_2, fileName)\n",
        "            pattern_3 = \".manifest.cdm.json\"\n",
        "            matchObj_3 =  re.search(pattern_3, fileName)\n",
        "            pattern_4 = \"schemaDocuments\"\n",
        "            matchObj_4 =  re.search(pattern_4, fileName)\n",
        "            pattern_5 = \"Table\"\n",
        "            matchObj_5 =  re.search(pattern_5, fileName)\n",
        "            pattern_6 = \"Entities\"\n",
        "            matchObj_6 =  re.search(pattern_6, fileName)\n",
        "            pattern_7 = \"example-public-standards\"\n",
        "            matchObj_7 =  re.search(pattern_7, fileName)\n",
        "            if matchObj_7 and not matchObj_2 and not matchObj_1 :\n",
        "              target_file = fileName.replace('/', '_')\n",
        "              with open(folder+'/'+target_file, \"wb\") as f:\n",
        "                  f.write(zipObj.read(fileName))"
      ],
      "execution_count": 6,
      "outputs": []
    },
    {
      "cell_type": "code",
      "metadata": {
        "id": "9lur0F_Qf0WC",
        "colab": {
          "base_uri": "https://localhost:8080/"
        },
        "outputId": "7d1570aa-139e-4d72-f2d1-2caaea3c9017"
      },
      "source": [
        "# Lasketaan tiedostojen lukumäärä hakemistoissa, johon schemaDocuments-hakemiston cdm.json-tiedostot on purettu\n",
        "from pathlib import Path\n",
        "import os\n",
        "\n",
        "def list_files_from_folders(path,files):\n",
        "    for element in path.iterdir():\n",
        "      if element.is_dir():\n",
        "         list_files_from_folders(element,files)\n",
        "      if element.is_file():\n",
        "         files.append(element) \n",
        "\n",
        "unzipped_CDM_folder = \"/content/ExampleCDM\"\n",
        "os.chdir(unzipped_CDM_folder)\n",
        "Path = Path.cwd()\n",
        "files=[]\n",
        "list_files_from_folders(Path,files)\n",
        "print(len(files))    "
      ],
      "execution_count": 7,
      "outputs": [
        {
          "output_type": "stream",
          "text": [
            "204\n"
          ],
          "name": "stdout"
        }
      ]
    },
    {
      "cell_type": "code",
      "metadata": {
        "id": "vw0jRpiC4aZY"
      },
      "source": [
        "!zip -r /content/files.zip /content/TableCDM"
      ],
      "execution_count": null,
      "outputs": []
    },
    {
      "cell_type": "code",
      "metadata": {
        "colab": {
          "base_uri": "https://localhost:8080/",
          "height": 17
        },
        "id": "ShOjvb1h3-KT",
        "outputId": "05a76e3a-e99c-49a0-bba1-42e8e4d67d5a"
      },
      "source": [
        "#ladataan Colabiin analysoitava tiedosto\r\n",
        "from google.colab import files\r\n",
        "downloaded = files.download('/content/files.zip')"
      ],
      "execution_count": null,
      "outputs": [
        {
          "output_type": "display_data",
          "data": {
            "application/javascript": [
              "\n",
              "    async function download(id, filename, size) {\n",
              "      if (!google.colab.kernel.accessAllowed) {\n",
              "        return;\n",
              "      }\n",
              "      const div = document.createElement('div');\n",
              "      const label = document.createElement('label');\n",
              "      label.textContent = `Downloading \"${filename}\": `;\n",
              "      div.appendChild(label);\n",
              "      const progress = document.createElement('progress');\n",
              "      progress.max = size;\n",
              "      div.appendChild(progress);\n",
              "      document.body.appendChild(div);\n",
              "\n",
              "      const buffers = [];\n",
              "      let downloaded = 0;\n",
              "\n",
              "      const channel = await google.colab.kernel.comms.open(id);\n",
              "      // Send a message to notify the kernel that we're ready.\n",
              "      channel.send({})\n",
              "\n",
              "      for await (const message of channel.messages) {\n",
              "        // Send a message to notify the kernel that we're ready.\n",
              "        channel.send({})\n",
              "        if (message.buffers) {\n",
              "          for (const buffer of message.buffers) {\n",
              "            buffers.push(buffer);\n",
              "            downloaded += buffer.byteLength;\n",
              "            progress.value = downloaded;\n",
              "          }\n",
              "        }\n",
              "      }\n",
              "      const blob = new Blob(buffers, {type: 'application/binary'});\n",
              "      const a = document.createElement('a');\n",
              "      a.href = window.URL.createObjectURL(blob);\n",
              "      a.download = filename;\n",
              "      div.appendChild(a);\n",
              "      a.click();\n",
              "      div.remove();\n",
              "    }\n",
              "  "
            ],
            "text/plain": [
              "<IPython.core.display.Javascript object>"
            ]
          },
          "metadata": {
            "tags": []
          }
        },
        {
          "output_type": "display_data",
          "data": {
            "application/javascript": [
              "download(\"download_747aa7f4-7a9c-46d3-af32-b14fad045588\", \"files.zip\", 1159457)"
            ],
            "text/plain": [
              "<IPython.core.display.Javascript object>"
            ]
          },
          "metadata": {
            "tags": []
          }
        }
      ]
    },
    {
      "cell_type": "code",
      "metadata": {
        "id": "1jlntaWv8MhY"
      },
      "source": [
        "# Jos ja kun olet mountannut driven, niin avaa drive ja drag-and-drop kansio, jossa on puretut json-tiedostot My Driveen \n",
        "# My Drivestä voit ladata zip-pakettina tiedostot työasemallesi ja edelleen OneDriveen"
      ],
      "execution_count": null,
      "outputs": []
    }
  ]
}